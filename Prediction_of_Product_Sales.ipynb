{
  "nbformat": 4,
  "nbformat_minor": 0,
  "metadata": {
    "colab": {
      "provenance": [],
      "authorship_tag": "ABX9TyPym1N2MhoytLaaK1BGDeqf",
      "include_colab_link": true
    },
    "kernelspec": {
      "name": "python3",
      "display_name": "Python 3"
    },
    "language_info": {
      "name": "python"
    }
  },
  "cells": [
    {
      "cell_type": "markdown",
      "metadata": {
        "id": "view-in-github",
        "colab_type": "text"
      },
      "source": [
        "<a href=\"https://colab.research.google.com/github/GregoryL12/Prediction-of-Product-Sales/blob/main/Prediction_of_Product_Sales.ipynb\" target=\"_parent\"><img src=\"https://colab.research.google.com/assets/colab-badge.svg\" alt=\"Open In Colab\"/></a>"
      ]
    },
    {
      "cell_type": "markdown",
      "source": [
        "#Prediction of Product Sales\n",
        "  Gregory Leal"
      ],
      "metadata": {
        "id": "ZKQ-OJe6a1r6"
      }
    },
    {
      "cell_type": "markdown",
      "source": [
        "##Project Overview"
      ],
      "metadata": {
        "id": "f2peUoedbMwz"
      }
    },
    {
      "cell_type": "markdown",
      "source": [
        "##Load and Inspect Data"
      ],
      "metadata": {
        "id": "6A24pQQ-bg4A"
      }
    },
    {
      "cell_type": "code",
      "source": [],
      "metadata": {
        "id": "oWprphqybjzn"
      },
      "execution_count": null,
      "outputs": []
    },
    {
      "cell_type": "markdown",
      "source": [
        "##Clean Data"
      ],
      "metadata": {
        "id": "71Lg2Jzobk_X"
      }
    },
    {
      "cell_type": "code",
      "source": [],
      "metadata": {
        "id": "ja_IeAmGboL_"
      },
      "execution_count": null,
      "outputs": []
    },
    {
      "cell_type": "markdown",
      "source": [
        "##Exploratory Data Analysis"
      ],
      "metadata": {
        "id": "4-tBOziBbo1B"
      }
    },
    {
      "cell_type": "code",
      "source": [],
      "metadata": {
        "id": "tYPeJeIkbq2H"
      },
      "execution_count": null,
      "outputs": []
    },
    {
      "cell_type": "markdown",
      "source": [
        "##Explanatory Data Analysis"
      ],
      "metadata": {
        "id": "lYXdIAw2brbv"
      }
    },
    {
      "cell_type": "code",
      "source": [],
      "metadata": {
        "id": "ruNXoHNHbt63"
      },
      "execution_count": null,
      "outputs": []
    }
  ]
}